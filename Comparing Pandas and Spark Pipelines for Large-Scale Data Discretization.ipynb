{
 "cells": [
  {
   "cell_type": "code",
   "execution_count": 1,
   "id": "baf6203e",
   "metadata": {},
   "outputs": [],
   "source": [
    "import time\n",
    "import pandas as pd\n",
    "import numpy as np\n",
    "from sklearn.preprocessing import KBinsDiscretizer\n",
    "from multiprocessing import Pool\n",
    "import pyspark"
   ]
  },
  {
   "cell_type": "code",
   "execution_count": 2,
   "id": "9a90bfc0",
   "metadata": {},
   "outputs": [],
   "source": [
    "# Create input data by simulation with Id + 10 continuous features and 1 million rows\n",
    "np.random.seed(1)\n",
    "input_data = pd.DataFrame({'Id': range(1000000),\n",
    "                           'feature_1' : np.random.uniform(0,10, 1000000),\n",
    "                           'feature_2' : np.random.uniform(0,10, 1000000),\n",
    "                           'feature_3' : np.random.uniform(0,10, 1000000),\n",
    "                           'feature_4' : np.random.uniform(0,10, 1000000),\n",
    "                           'feature_5' : np.random.uniform(0,10, 1000000),\n",
    "                           'feature_6' : np.random.uniform(0,10, 1000000),\n",
    "                           'feature_7' : np.random.uniform(0,10, 1000000),\n",
    "                           'feature_8' : np.random.uniform(0,10, 1000000),\n",
    "                           'feature_9' : np.random.uniform(0,10, 1000000),\n",
    "                           'feature_10' : np.random.uniform(0,10, 1000000)})"
   ]
  },
  {
   "cell_type": "code",
   "execution_count": 3,
   "id": "9c91a089",
   "metadata": {},
   "outputs": [],
   "source": [
    "# Pipeline 1 - pandas package for data report + sequential discretization\n",
    "start_time = time.time()"
   ]
  },
  {
   "cell_type": "code",
   "execution_count": 4,
   "id": "508abd6a",
   "metadata": {},
   "outputs": [],
   "source": [
    "# discretizer\n",
    "est = KBinsDiscretizer(n_bins=3, encode='ordinal', strategy='uniform')"
   ]
  },
  {
   "cell_type": "code",
   "execution_count": 15,
   "id": "34cce397",
   "metadata": {},
   "outputs": [],
   "source": [
    "# prepare data report\n",
    "data_report = pd.DataFrame(columns=['Number of rows with non-empty values',\n",
    "                            'Number of rows with empty values',\n",
    "                            'Number of distinct values',\n",
    "                            'Top 2 frequent values',\n",
    "                            'Top 2 frequent counts'])"
   ]
  },
  {
   "cell_type": "code",
   "execution_count": 16,
   "id": "6b16bca5",
   "metadata": {},
   "outputs": [],
   "source": [
    "# for loop for discretization\n",
    "for col in input_data.columns[1:]:\n",
    "    # discretize\n",
    "    input_data['Bin_' + col] = est.fit_transform(input_data[[col]]).flatten().astype(int)\n",
    "    # report\n",
    "    data_report.loc[col, 'Number of rows with non-empty values'] = input_data[col].count()\n",
    "    data_report.loc[col, 'Number of rows with empty values'] = input_data[col].isna().sum()\n",
    "    data_report.loc[col, 'Number of distinct values'] = len(input_data[col].value_counts())\n",
    "    data_report.loc[col, 'Top 2 frequent values'] = input_data[col].value_counts().index[0:2].tolist()\n",
    "    data_report.loc[col, 'Top 2 frequent counts'] = input_data[col].value_counts().values[0:2].tolist()\n",
    "\n",
    "time_pipeline_1 = time.time() - start_time\n",
    "def discretization(df, col):\n",
    "    # discretize\n",
    "    est = KBinsDiscretizer(n_bins=3, encode='ordinal', strategy='uniform')\n",
    "    df['Bin_' + col] = est.fit_transform(df[col].values.reshape(-1, 1)).flatten().astype(int)\n",
    "    # prepare data report\n",
    "    data_report = pd.DataFrame(columns=['Number of rows with non-empty values',\n",
    "                                'Number of rows with empty values',\n",
    "                                'Number of distinct values',\n",
    "                                'Top 2 frequent values',\n",
    "                                'Top 2 frequent counts'])\n",
    "    # report\n",
    "    data_report.loc[col, 'Number of rows with non-empty values'] = df[col].count()\n",
    "    data_report.loc[col, 'Number of rows with empty values'] = df[col].isnull().sum()\n",
    "    data_report.loc[col, 'Number of distinct values'] = df[col].nunique()\n",
    "    value_counts = df[col].value_counts()\n",
    "    if len(value_counts) >= 2:\n",
    "      data_report.loc[col, 'Top 2 frequent values'] = value_counts.index[:2].tolist()\n",
    "      data_report.loc[col, 'Top 2 frequent counts'] = value_counts.values[:2].tolist()\n",
    "    else:\n",
    "      data_report.loc[col, 'Top 2 frequent values'] = value_counts.index[:1].tolist()\n",
    "      data_report.loc[col, 'Top 2 frequent counts'] = value_counts.values[:1].tolist()\n",
    "    return data_report"
   ]
  },
  {
   "cell_type": "code",
   "execution_count": 17,
   "id": "d4e0c8b9",
   "metadata": {},
   "outputs": [],
   "source": [
    "#Initialize Spark\n",
    "spark = pyspark.sql.SparkSession.builder.getOrCreate()"
   ]
  },
  {
   "cell_type": "code",
   "execution_count": 18,
   "id": "bdba85f2",
   "metadata": {},
   "outputs": [],
   "source": [
    "#Parameters\n",
    "num_cores = 4"
   ]
  },
  {
   "cell_type": "code",
   "execution_count": 19,
   "id": "fd96d8a1",
   "metadata": {},
   "outputs": [],
   "source": [
    "#Convert Spark dataframe to Pandas dataframe\n",
    "df = df_spark.toPandas()"
   ]
  },
  {
   "cell_type": "code",
   "execution_count": 20,
   "id": "17f17989",
   "metadata": {},
   "outputs": [],
   "source": [
    "#Parallel processing with Pool\n",
    "start_time = time.time()\n",
    "with Pool(num_cores) as pool:\n",
    "  data_reports = pool.starmap(discretization, [(df, col) for col in input_data.columns[1:]])\n",
    "time_pipeline_2 = time.time() - start_time"
   ]
  },
  {
   "cell_type": "code",
   "execution_count": 21,
   "id": "810bd1be",
   "metadata": {},
   "outputs": [],
   "source": [
    "#Concatenate data reports\n",
    "data_report = pd.concat(data_reports, axis=0)\n",
    "print('Time for Pipeline 1: ',time_pipeline_1,'seconds')\n",
    "print('Memory usage for Pipeline 1: ', input_data.memory_usage().sum()/ (1024 * 1024),'MB')\n",
    "print('Time for Pipeline 2: ',time_pipeline_2,'seconds')\n",
    "print('Memory usage for Pipeline 2: ', df_spark.rdd.getNumPartitions()/ (1024 * 1024),'MB')"
   ]
  }
 ],
 "metadata": {
  "kernelspec": {
   "display_name": "Python 3 (ipykernel)",
   "language": "python",
   "name": "python3"
  },
  "language_info": {
   "codemirror_mode": {
    "name": "ipython",
    "version": 3
   },
   "file_extension": ".py",
   "mimetype": "text/x-python",
   "name": "python",
   "nbconvert_exporter": "python",
   "pygments_lexer": "ipython3",
   "version": "3.11.5"
  }
 },
 "nbformat": 4,
 "nbformat_minor": 5
}
